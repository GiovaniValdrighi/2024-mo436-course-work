{
 "cells": [
  {
   "cell_type": "code",
   "execution_count": 2,
   "metadata": {},
   "outputs": [],
   "source": [
    "import numpy as np\n",
    "import torch\n",
    "import torch.nn as nn\n",
    "import lightning as L\n",
    "\n",
    "\n",
    "import models.autoencoder as AE\n",
    "\n",
    "%load_ext autoreload\n",
    "%autoreload 2"
   ]
  },
  {
   "cell_type": "code",
   "execution_count": 3,
   "metadata": {},
   "outputs": [],
   "source": [
    "data = np.load(\"data/data_clean.npy\")\n",
    "data = torch.tensor(data, dtype=torch.float32)"
   ]
  },
  {
   "cell_type": "code",
   "execution_count": 8,
   "metadata": {},
   "outputs": [
    {
     "data": {
      "text/plain": [
       "(torch.Size([10, 360]), torch.Size([10, 64]))"
      ]
     },
     "execution_count": 8,
     "metadata": {},
     "output_type": "execute_result"
    }
   ],
   "source": [
    "data_flat = data.view(data.size(0), -1)\n",
    "layers_sizes = [data_flat.size(1), 256, 128, 64]\n",
    "model = AE.AutoencoderMLP(layers_sizes)\n",
    "model(data_flat[:10]).shape, model.encoder(data_flat[:10]).shape"
   ]
  },
  {
   "cell_type": "code",
   "execution_count": 16,
   "metadata": {},
   "outputs": [
    {
     "data": {
      "text/plain": [
       "(torch.Size([10, 6, 60]), torch.Size([10, 64]))"
      ]
     },
     "execution_count": 16,
     "metadata": {},
     "output_type": "execute_result"
    }
   ],
   "source": [
    "data_T = data.permute(0, 2, 1)\n",
    "model = AE.AutoencoderConv(\n",
    "    input_dim = data_T.size(1),\n",
    "    encoding_dim=64,\n",
    "    seq_len = data_T.size(2),\n",
    "    h_dims = [256, 128, 64],\n",
    "    h_activ=nn.ReLU(),\n",
    "    out_activ=nn.Identity()\n",
    ")\n",
    "model(data_T[:10]).shape, model.encoder(data_T[:10]).shape"
   ]
  }
 ],
 "metadata": {
  "kernelspec": {
   "display_name": "sslhar",
   "language": "python",
   "name": "python3"
  },
  "language_info": {
   "codemirror_mode": {
    "name": "ipython",
    "version": 3
   },
   "file_extension": ".py",
   "mimetype": "text/x-python",
   "name": "python",
   "nbconvert_exporter": "python",
   "pygments_lexer": "ipython3",
   "version": "3.10.14"
  }
 },
 "nbformat": 4,
 "nbformat_minor": 2
}
